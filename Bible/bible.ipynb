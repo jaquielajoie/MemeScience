{
 "cells": [
  {
   "cell_type": "markdown",
   "id": "80387f0f",
   "metadata": {},
   "source": [
    "# Word2Vec Import"
   ]
  },
  {
   "cell_type": "code",
   "execution_count": 17,
   "id": "496d71df",
   "metadata": {},
   "outputs": [],
   "source": [
    "from gensim.models import Word2Vec, KeyedVectors\n",
    "from nltk.corpus import stopwords\n",
    "from string import punctuation\n",
    "import matplotlib.pyplot as plt\n",
    "import numpy as np\n",
    "import pandas as pd\n",
    "import pprint as pp"
   ]
  },
  {
   "cell_type": "code",
   "execution_count": 4,
   "id": "a37cca43",
   "metadata": {},
   "outputs": [],
   "source": [
    "from nltk.corpus import gutenberg\n",
    "bible_sentences = gutenberg.sents('bible-kjv.txt')\n",
    "sw = stopwords.words('english')"
   ]
  },
  {
   "cell_type": "code",
   "execution_count": 5,
   "id": "9f28aa3d",
   "metadata": {},
   "outputs": [],
   "source": [
    "bible = [[w.lower() for w in s if w not in punctuation and w not in sw] for s in bible_sentences]\n",
    "# pp.pprint(bible[:200]) # ppretty print the bible"
   ]
  },
  {
   "cell_type": "code",
   "execution_count": 21,
   "id": "658f1814",
   "metadata": {},
   "outputs": [
    {
     "name": "stdout",
     "output_type": "stream",
     "text": [
      "array([-0.41680467, -0.8382201 ,  0.13424395,  1.3640419 , -0.6760875 ,\n",
      "       -0.52173406,  0.87343454, -0.00433023, -0.43176237,  0.5492028 ,\n",
      "       -0.23415169, -0.06460429,  0.1535433 , -0.32025552, -0.31724018,\n",
      "       -0.8982869 ,  1.0833757 , -0.2905425 , -0.452064  , -1.9540383 ,\n",
      "        1.0178686 ,  1.1194868 , -0.10984022, -0.17842367,  0.85790056,\n",
      "       -0.20858185, -0.13293964,  0.55850005, -1.3293628 , -1.1665276 ,\n",
      "       -1.1726753 ,  1.1164155 ,  0.03278117,  0.28269196,  0.42691007,\n",
      "        0.33214143, -0.54662585, -1.1147794 , -0.29612616, -0.15167166,\n",
      "       -1.9943919 ,  0.0516477 , -0.96721566,  0.6152701 ,  0.6417739 ,\n",
      "       -0.4621336 , -1.2797962 ,  0.8635972 , -0.5663206 ,  1.5159037 ,\n",
      "       -1.0187337 ,  1.4493569 , -0.37736425,  0.33860862, -0.15099522,\n",
      "       -0.4659194 ,  0.93663985, -0.9466536 , -0.6552724 ,  2.094246  ,\n",
      "        1.0316957 , -0.27493966, -0.4299268 , -0.7016775 ,  0.33957526,\n",
      "       -0.9740273 , -0.30406207,  0.88687634, -0.23039478,  1.1199924 ,\n",
      "        1.0166864 ,  1.1456107 , -0.37458795, -1.4183419 ,  0.92550635,\n",
      "        0.21099788,  0.7401231 ,  0.08346941, -0.5987613 , -1.0770316 ,\n",
      "       -0.18244325, -0.09853502, -0.42097524,  1.0289558 , -0.9908358 ,\n",
      "        0.25460157,  1.212361  , -0.81352   , -1.0847323 ,  0.02664508,\n",
      "        0.94060755,  0.3900993 ,  1.6215146 ,  0.22653301,  1.0101616 ,\n",
      "        0.38190395, -1.034159  , -1.4483509 , -0.12166756,  0.01770052],\n",
      "      dtype=float32)\n"
     ]
    }
   ],
   "source": [
    "bible_vec_repr = Word2Vec(bible) # bible_vec_repr is our vector representation model\n",
    "bible_vec_repr.wv.fill_norms() # this is needed to create synonyms\n",
    "pp.pprint(bible_vec_repr.wv[0])"
   ]
  },
  {
   "cell_type": "code",
   "execution_count": 7,
   "id": "c589519c",
   "metadata": {},
   "outputs": [
    {
     "name": "stdout",
     "output_type": "stream",
     "text": [
      "[('mercy', 0.9263613820075989),\n",
      " ('liveth', 0.894212007522583),\n",
      " ('grace', 0.8868008255958557),\n",
      " ('truth', 0.8864462971687317),\n",
      " ('hosts', 0.8857892751693726),\n",
      " ('glory', 0.8830561637878418),\n",
      " ('salvation', 0.8763213157653809),\n",
      " ('righteousness', 0.8710134029388428)]\n"
     ]
    }
   ],
   "source": [
    "pp.pprint(bible_vec_repr.wv.most_similar('god', topn=8)) # what are the most similar words to god?"
   ]
  },
  {
   "cell_type": "code",
   "execution_count": 8,
   "id": "4eada200",
   "metadata": {},
   "outputs": [
    {
     "name": "stdout",
     "output_type": "stream",
     "text": [
      "[('oppression', 0.9780843257904053),\n",
      " ('hard', 0.9777470231056213),\n",
      " ('hasty', 0.9759880304336548),\n",
      " ('bridle', 0.9705972075462341),\n",
      " ('unless', 0.9703243970870972),\n",
      " ('snared', 0.9701904654502869),\n",
      " ('ministry', 0.9694772362709045),\n",
      " ('necks', 0.969402551651001)]\n"
     ]
    }
   ],
   "source": [
    "pp.pprint(bible_vec_repr.wv.most_similar('devil', topn=8)) # what are the most similar words to devil?"
   ]
  },
  {
   "cell_type": "code",
   "execution_count": 9,
   "id": "f868814f",
   "metadata": {},
   "outputs": [
    {
     "name": "stdout",
     "output_type": "stream",
     "text": [
      "[('heavens', 0.8794105648994446),\n",
      " ('earth', 0.8657416105270386),\n",
      " ('opened', 0.7618483901023865),\n",
      " ('face', 0.7432582974433899),\n",
      " ('rain', 0.7384818196296692),\n",
      " ('rock', 0.7339916229248047),\n",
      " ('power', 0.7300347089767456),\n",
      " ('maketh', 0.7235194444656372)]\n"
     ]
    }
   ],
   "source": [
    "pp.pprint(bible_vec_repr.wv.most_similar('heaven', topn=8)) # what are the most similar words to heaven?"
   ]
  },
  {
   "cell_type": "code",
   "execution_count": 10,
   "id": "8cff0228",
   "metadata": {},
   "outputs": [
    {
     "name": "stdout",
     "output_type": "stream",
     "text": [
      "[('hairs', 0.9672659635543823),\n",
      " ('bind', 0.9642070531845093),\n",
      " ('belly', 0.9629202485084534),\n",
      " ('root', 0.9627992510795593),\n",
      " ('treadeth', 0.9622930884361267),\n",
      " ('doves', 0.9617848992347717),\n",
      " ('pluck', 0.9610278606414795),\n",
      " ('grave', 0.9603418111801147)]\n"
     ]
    }
   ],
   "source": [
    "pp.pprint(bible_vec_repr.wv.most_similar('hell', topn=8)) # what are the most similar words to hell?"
   ]
  },
  {
   "cell_type": "code",
   "execution_count": 11,
   "id": "6e1f978f",
   "metadata": {},
   "outputs": [
    {
     "name": "stdout",
     "output_type": "stream",
     "text": [
      "[('cried', 0.8468081951141357),\n",
      " ('prophet', 0.839110791683197),\n",
      " ('word', 0.8253524899482727),\n",
      " ('master', 0.8241215944290161),\n",
      " ('told', 0.8143592476844788),\n",
      " ('samuel', 0.811827540397644),\n",
      " ('david', 0.8029812574386597),\n",
      " ('spake', 0.7892252206802368)]\n"
     ]
    }
   ],
   "source": [
    "pp.pprint(bible_vec_repr.wv.most_similar('jesus', topn=8)) # what are the most similar words to jesus?"
   ]
  },
  {
   "cell_type": "code",
   "execution_count": 12,
   "id": "f111377e",
   "metadata": {
    "scrolled": true
   },
   "outputs": [
    {
     "name": "stdout",
     "output_type": "stream",
     "text": [
      "[('cried', 0.9121896624565125),\n",
      " ('samuel', 0.8552687764167786),\n",
      " ('loud', 0.8469710946083069),\n",
      " ('appeared', 0.8005466461181641),\n",
      " ('balaam', 0.7972202897071838),\n",
      " ('wept', 0.7910525798797607),\n",
      " ('besought', 0.7887764573097229),\n",
      " ('prayed', 0.7886304259300232)]\n"
     ]
    }
   ],
   "source": [
    "pp.pprint(bible_vec_repr.wv.most_similar('angel', topn=8)) # what are the most similar words to angel?"
   ]
  },
  {
   "cell_type": "code",
   "execution_count": 13,
   "id": "c2edf4e4",
   "metadata": {
    "scrolled": false
   },
   "outputs": [
    {
     "name": "stdout",
     "output_type": "stream",
     "text": [
      "[('kindly', 0.9606541991233826),\n",
      " ('bid', 0.9516599178314209),\n",
      " ('aloud', 0.9510129690170288),\n",
      " ('speech', 0.9443800449371338),\n",
      " ('diviners', 0.943240225315094),\n",
      " ('quicken', 0.9431401491165161),\n",
      " ('martha', 0.9407162666320801),\n",
      " ('caesar', 0.9390252232551575)]\n"
     ]
    }
   ],
   "source": [
    "pp.pprint(bible_vec_repr.wv.most_similar('satan', topn=8)) # what are the most similar words to satan?"
   ]
  },
  {
   "cell_type": "markdown",
   "id": "86197223",
   "metadata": {},
   "source": [
    "# Vector Math"
   ]
  },
  {
   "cell_type": "code",
   "execution_count": 72,
   "id": "ccb53d6a",
   "metadata": {},
   "outputs": [
    {
     "name": "stdout",
     "output_type": "stream",
     "text": [
      "[-0.7569938   0.8879813  -0.78702974 -0.24554564 -0.01011772  0.23533432\n",
      " -0.16551168  0.79002535  0.2717863  -0.16873066 -0.0329203  -0.3190724\n",
      " -0.02938815 -0.3417831   0.5409791   0.21466517  0.08541109 -0.71320677\n",
      "  0.08624149 -0.7936401   0.09387267 -0.14707983  1.3149691   0.05255236\n",
      " -0.39318427  0.10540803 -0.37265185  0.1222422  -0.05169637  0.6710253\n",
      " -0.28758466 -0.33805722 -0.4996088  -0.08908856 -0.0981572   0.5237533\n",
      " -0.30051583 -0.3489772   0.22855367 -0.88214177  0.66309416 -0.32017905\n",
      " -0.39931786 -0.2582578   0.13474534 -0.37631774 -0.86381626  0.07600288\n",
      "  0.11230308 -0.4761201   0.69829977 -0.17341009 -0.00612396  0.18559736\n",
      "  0.00533868  0.16035753  0.43998715 -0.47953367 -0.57589126  0.34792778\n",
      "  0.3868633  -0.01900236  0.20777294 -0.09766676 -0.43857002  0.37031692\n",
      "  0.33726227  0.47669125 -0.613973    0.33288127  0.00885321  0.23456916\n",
      "  0.15450427  0.338553   -0.02226505  0.3800544   0.07221765 -0.17030242\n",
      " -0.48297226 -0.4605242  -0.4133175  -0.3676825  -0.60462713  0.7257043\n",
      "  0.25404215 -0.38723212  0.04168747  0.25955996  0.7358034  -0.6056419\n",
      "  0.61561346  0.23609409  0.3322047  -0.1415477   0.4638488   0.23346233\n",
      "  0.4161968  -0.50318086  0.20251068 -0.4739286 ]\n"
     ]
    }
   ],
   "source": [
    "vec = bible_vec_repr.wv['hate'] + bible_vec_repr.wv['pride'] # i.e. hate - prophet = wine\n",
    "print(vec)"
   ]
  },
  {
   "cell_type": "code",
   "execution_count": 73,
   "id": "4226da65",
   "metadata": {},
   "outputs": [
    {
     "data": {
      "text/plain": [
       "[('upright', 0.9789418578147888),\n",
       " ('thoughts', 0.9749749898910522),\n",
       " ('workers', 0.9743785858154297),\n",
       " ('condemn', 0.97227543592453),\n",
       " ('hate', 0.9702574014663696),\n",
       " ('forbear', 0.968469500541687),\n",
       " ('adversaries', 0.9665278792381287),\n",
       " ('folly', 0.9664924740791321),\n",
       " ('speedily', 0.9653268456459045),\n",
       " ('uprightness', 0.9648520350456238)]"
      ]
     },
     "execution_count": 73,
     "metadata": {},
     "output_type": "execute_result"
    }
   ],
   "source": [
    "bible_vec_repr.wv.most_similar(positive=[vec], topn=10) # i.e. hate + pride = folly"
   ]
  },
  {
   "cell_type": "markdown",
   "id": "abfa90e4",
   "metadata": {},
   "source": [
    "# Using a Pretrained W2V Model (Google News)"
   ]
  },
  {
   "cell_type": "code",
   "execution_count": 126,
   "id": "036f665b",
   "metadata": {},
   "outputs": [],
   "source": [
    "gn_model = KeyedVectors.load_word2vec_format('../GoogleNews-vectors-negative300.bin', binary=True, limit=300000)"
   ]
  },
  {
   "cell_type": "code",
   "execution_count": 127,
   "id": "aa2b50b8",
   "metadata": {},
   "outputs": [
    {
     "name": "stdout",
     "output_type": "stream",
     "text": [
      "[('gods', 0.7856108546257019),\n",
      " ('deity', 0.7325143814086914),\n",
      " ('God', 0.666293203830719),\n",
      " ('diety', 0.6607768535614014),\n",
      " ('goddess', 0.6518735289573669),\n",
      " ('deities', 0.6512717604637146),\n",
      " ('lord', 0.635028064250946),\n",
      " ('god_Zeus', 0.6218456625938416),\n",
      " ('Almighty', 0.6040672659873962),\n",
      " ('Gods', 0.6037754416465759)]\n"
     ]
    }
   ],
   "source": [
    "pp.pprint(gn_model.most_similar('god')) # what are the most similar words to god (Google News)?"
   ]
  },
  {
   "cell_type": "code",
   "execution_count": 128,
   "id": "d6b74069",
   "metadata": {},
   "outputs": [
    {
     "name": "stdout",
     "output_type": "stream",
     "text": [
      "[('mercy', 0.937945544719696),\n",
      " ('glory', 0.909177839756012),\n",
      " ('liveth', 0.8952507972717285),\n",
      " ('grace', 0.8938044905662537),\n",
      " ('truth', 0.8920682668685913),\n",
      " ('righteousness', 0.8908671736717224),\n",
      " ('salvation', 0.8859186172485352),\n",
      " ('hosts', 0.8845880031585693),\n",
      " ('bless', 0.8707209825515747),\n",
      " ('faith', 0.8679599761962891)]\n"
     ]
    }
   ],
   "source": [
    "pp.pprint(bible_vec_repr.wv.most_similar('god')) # what are the most similar words to god (King James)?"
   ]
  },
  {
   "cell_type": "code",
   "execution_count": 129,
   "id": "2b6baf71",
   "metadata": {},
   "outputs": [
    {
     "name": "stdout",
     "output_type": "stream",
     "text": [
      "[('ANT_MAN', 0.28661471605300903),\n",
      " ('pronounced_sah', 0.2814408838748932),\n",
      " ('Nub', 0.2810094356536865),\n",
      " ('wahs', 0.2796354293823242),\n",
      " ('Cephei', 0.2793895900249481),\n",
      " ('pronounced_AY', 0.2786712646484375),\n",
      " ('rahs', 0.2758975028991699),\n",
      " ('Zenbu', 0.27580705285072327),\n",
      " ('ferris', 0.2752784490585327),\n",
      " ('Boletus_edulis', 0.2744906544685364)]\n"
     ]
    }
   ],
   "source": [
    "# Let's perform vector math on the Google News Word2Vec model (https://code.google.com/archive/p/word2vec/)\n",
    "\n",
    "vec = gn_model['god'] - gn_model['mercy'] - gn_model['faith'] \n",
    "pp.pprint(gn_model.most_similar(positive=[vec], topn=10))\n",
    "\n",
    "# Although with not high certainty, god without mercy and faith is ANT_MAN"
   ]
  },
  {
   "cell_type": "code",
   "execution_count": null,
   "id": "c385c12d",
   "metadata": {},
   "outputs": [],
   "source": []
  },
  {
   "cell_type": "markdown",
   "id": "aca44402",
   "metadata": {},
   "source": [
    "# KMeans Import"
   ]
  },
  {
   "cell_type": "code",
   "execution_count": 18,
   "id": "2c008c1c",
   "metadata": {},
   "outputs": [],
   "source": [
    "from nltk.cluster import KMeansClusterer, euclidean_distance"
   ]
  },
  {
   "cell_type": "code",
   "execution_count": null,
   "id": "8bcd93ec",
   "metadata": {},
   "outputs": [],
   "source": []
  }
 ],
 "metadata": {
  "kernelspec": {
   "display_name": "Python 3",
   "language": "python",
   "name": "python3"
  },
  "language_info": {
   "codemirror_mode": {
    "name": "ipython",
    "version": 3
   },
   "file_extension": ".py",
   "mimetype": "text/x-python",
   "name": "python",
   "nbconvert_exporter": "python",
   "pygments_lexer": "ipython3",
   "version": "3.7.4"
  }
 },
 "nbformat": 4,
 "nbformat_minor": 5
}
